{
 "cells": [
  {
   "cell_type": "code",
   "execution_count": 1,
   "metadata": {},
   "outputs": [],
   "source": [
    "# define a test function\n",
    "# the test function simulation the score of a data scientist graduate in the job market for a medium company IN CHINA\n",
    "# 'grade' is a float between 2.00 and 4.00, around 3.5 is prefered (too high may be fake)\n",
    "# 'background' is a float between 0.00 and 1.00 which measures the degree of professional fit\n",
    "# 'age' is an int between 18 and 34, 26-30 is prefered\n",
    "# 'internship' is the number of interships that can be [0, 1, 2, 3, 4, 5]\n",
    "# 'school' is a label in ['top4', '985', '211', 'level-1', 'level-2', 'level-3', 'others']\n",
    "# 'level' is a label in ['professor', 'doctor', 'master', 'bachelor', 'others']"
   ]
  },
  {
   "cell_type": "code",
   "execution_count": 2,
   "metadata": {},
   "outputs": [
    {
     "name": "stdout",
     "output_type": "stream",
     "text": [
      "top optimum score is:  135.0\n"
     ]
    }
   ],
   "source": [
    "def test(grade, background, age, internship, school, level):\n",
    "        school_score = {'top4': 1.5, '985': 1.2, '211': 1.0, 'level-1': 0.8, 'level-2': 0.6, 'level-3': 0.4, 'others': 0.2}\n",
    "        level_score = {'professor': 0.8, 'doctor': 1.0, 'master': 1.2, 'bachelor': 1.0, 'others': 0.5}\n",
    "        internship_score = {0:0.5, 1:1, 2:1.2, 3:1.5, 4:1, 5:0.8}\n",
    "        age_score = -(age - 28) ** 2 + 100\n",
    "        grade_score = (-(grade - 3.5) ** 2 + 2.25) * 4 / 9\n",
    "        return grade_score * background * age_score * internship_score[internship] * school_score[school] * level_score[level] / 2\n",
    "\n",
    "print('top optimum score is: ', test(3.5, 1.00, 28, 3, 'top4', 'master'))"
   ]
  },
  {
   "cell_type": "code",
   "execution_count": 3,
   "metadata": {},
   "outputs": [],
   "source": [
    "import evolutionary_parameter_optimization as epo\n",
    "\n",
    "continuous_list = [ ['grade', [2.00, 4.00]], ['background', [0.00, 1.00]] ]\n",
    "int_list = [ ['age', range(18, 35, 1)], ['internship', range(0, 6, 1)] ]\n",
    "label_list = [ ['school', ['top4', '985', '211', 'level-1', 'level-2', 'level-3', 'others']], ['level', ['professor', 'doctor', 'master', 'bachelor', 'others']] ]\n",
    "order = ['grade', 'background', 'age', 'internship', 'school', 'level']\n",
    "parameters = [continuous_list, int_list, label_list]\n",
    "settings = (50, True, 0.2, 0.1)\n",
    "end = ('iteration', 100)\n",
    "\n",
    "res = epo.evolution_parameter_optimization(test, parameters, order, performance_function = epo.default_performance, settings = settings, end = end)"
   ]
  },
  {
   "cell_type": "code",
   "execution_count": 4,
   "metadata": {},
   "outputs": [
    {
     "data": {
      "image/png": "[encoded data removed]",
      "text/plain": [
       "<Figure size 640x480 with 1 Axes>"
      ]
     },
     "metadata": {},
     "output_type": "display_data"
    }
   ],
   "source": [
    "import matplotlib.pyplot as plt\n",
    "\n",
    "plt.plot(res[1])\n",
    "plt.show()"
   ]
  },
  {
   "cell_type": "code",
   "execution_count": 5,
   "metadata": {},
   "outputs": [
    {
     "data": {
      "text/html": [
       "<div>\n",
       "<style scoped>\n",
       "    .dataframe tbody tr th:only-of-type {\n",
       "        vertical-align: middle;\n",
       "    }\n",
       "\n",
       "    .dataframe tbody tr th {\n",
       "        vertical-align: top;\n",
       "    }\n",
       "\n",
       "    .dataframe thead th {\n",
       "        text-align: right;\n",
       "    }\n",
       "</style>\n",
       "<table border=\"1\" class=\"dataframe\">\n",
       "  <thead>\n",
       "    <tr style=\"text-align: right;\">\n",
       "      <th></th>\n",
       "      <th>grade</th>\n",
       "      <th>background</th>\n",
       "      <th>age</th>\n",
       "      <th>internship</th>\n",
       "      <th>school</th>\n",
       "      <th>level</th>\n",
       "      <th>result</th>\n",
       "      <th>performance</th>\n",
       "    </tr>\n",
       "  </thead>\n",
       "  <tbody>\n",
       "    <tr>\n",
       "      <th>0</th>\n",
       "      <td>3.50714</td>\n",
       "      <td>0.999136</td>\n",
       "      <td>28.0</td>\n",
       "      <td>3.0</td>\n",
       "      <td>top4</td>\n",
       "      <td>master</td>\n",
       "      <td>134.880251</td>\n",
       "      <td>18192.682058</td>\n",
       "    </tr>\n",
       "  </tbody>\n",
       "</table>\n",
       "</div>"
      ],
      "text/plain": [
       "     grade  background   age internship school   level      result  \\\n",
       "0  3.50714    0.999136  28.0        3.0   top4  master  134.880251   \n",
       "\n",
       "    performance  \n",
       "0  18192.682058  "
      ]
     },
     "execution_count": 5,
     "metadata": {},
     "output_type": "execute_result"
    }
   ],
   "source": [
    "res[0]"
   ]
  },
  {
   "cell_type": "code",
   "execution_count": 6,
   "metadata": {},
   "outputs": [],
   "source": [
    "import pandas as pd\n",
    "import numpy as np\n",
    "from sklearn.model_selection import train_test_split\n",
    "from sklearn.ensemble import RandomForestClassifier\n",
    "from sklearn.metrics import f1_score\n",
    "from sklearn.datasets import make_classification\n",
    "\n",
    "import evolutionary_parameter_optimization as epo"
   ]
  },
  {
   "cell_type": "code",
   "execution_count": 7,
   "metadata": {},
   "outputs": [],
   "source": [
    "x, y = make_classification(n_samples=2000,n_features=10,n_classes=2)\n",
    "X_train, X_test, y_train, y_test = train_test_split(x, y, test_size=0.3, random_state=42)\n",
    "y_train=np.array(y_train)\n",
    "y_test=np.array(y_test)\n",
    "\n",
    "cl=[]\n",
    "intl=[['min_samples_split',[2,3,4]],['n_estimators',[100,200,300,400,500]]]\n",
    "labl=[['criterion',['gini','entropy']],['max_features',['sqrt','log2']]]\n",
    "parameters = [cl, intl, labl]\n",
    "order=['min_samples_split','n_estimators','criterion','max_features']\n",
    "settings = (20, True, 0.25, 0.1)\n",
    "end = ('iteration', 10)\n",
    "def rf_f1(min_samples_split,n_estimators,criterion,max_features):\n",
    "    return f1_score(y_test,RandomForestClassifier(min_samples_split = int(min_samples_split), n_estimators = int(n_estimators),criterion = criterion,max_features = max_features).fit(X_train,y_train).predict(X_test),average='micro')"
   ]
  },
  {
   "cell_type": "code",
   "execution_count": 8,
   "metadata": {},
   "outputs": [],
   "source": [
    "res = epo.evolution_parameter_optimization(rf_f1, parameters, order, performance_function = epo.default_performance, settings = settings, end = end)"
   ]
  },
  {
   "cell_type": "code",
   "execution_count": 9,
   "metadata": {},
   "outputs": [
    {
     "data": {
      "text/plain": [
       "[0,\n",
       " 0.9,\n",
       " 0.9066666666666666,\n",
       " 0.9066666666666666,\n",
       " 0.9066666666666666,\n",
       " 0.9066666666666666,\n",
       " 0.9066666666666666,\n",
       " 0.9066666666666666,\n",
       " 0.9066666666666666,\n",
       " 0.9066666666666666,\n",
       " 0.9066666666666666,\n",
       " 0.9066666666666666]"
      ]
     },
     "execution_count": 9,
     "metadata": {},
     "output_type": "execute_result"
    }
   ],
   "source": [
    "res[1]"
   ]
  },
  {
   "cell_type": "code",
   "execution_count": 10,
   "metadata": {},
   "outputs": [
    {
     "data": {
      "text/html": [
       "<div>\n",
       "<style scoped>\n",
       "    .dataframe tbody tr th:only-of-type {\n",
       "        vertical-align: middle;\n",
       "    }\n",
       "\n",
       "    .dataframe tbody tr th {\n",
       "        vertical-align: top;\n",
       "    }\n",
       "\n",
       "    .dataframe thead th {\n",
       "        text-align: right;\n",
       "    }\n",
       "</style>\n",
       "<table border=\"1\" class=\"dataframe\">\n",
       "  <thead>\n",
       "    <tr style=\"text-align: right;\">\n",
       "      <th></th>\n",
       "      <th>min_samples_split</th>\n",
       "      <th>n_estimators</th>\n",
       "      <th>criterion</th>\n",
       "      <th>max_features</th>\n",
       "      <th>result</th>\n",
       "      <th>performance</th>\n",
       "    </tr>\n",
       "  </thead>\n",
       "  <tbody>\n",
       "    <tr>\n",
       "      <th>20</th>\n",
       "      <td>4.0</td>\n",
       "      <td>200.0</td>\n",
       "      <td>gini</td>\n",
       "      <td>log2</td>\n",
       "      <td>0.906667</td>\n",
       "      <td>0.822044</td>\n",
       "    </tr>\n",
       "  </tbody>\n",
       "</table>\n",
       "</div>"
      ],
      "text/plain": [
       "   min_samples_split  n_estimators criterion max_features    result  \\\n",
       "20               4.0         200.0      gini         log2  0.906667   \n",
       "\n",
       "    performance  \n",
       "20     0.822044  "
      ]
     },
     "execution_count": 10,
     "metadata": {},
     "output_type": "execute_result"
    }
   ],
   "source": [
    "res[0]"
   ]
  }
 ],
 "metadata": {
  "kernelspec": {
   "display_name": "Python 3.9.15 ('base')",
   "language": "python",
   "name": "python3"
  },
  "language_info": {
   "codemirror_mode": {
    "name": "ipython",
    "version": 3
   },
   "file_extension": ".py",
   "mimetype": "text/x-python",
   "name": "python",
   "nbconvert_exporter": "python",
   "pygments_lexer": "ipython3",
   "version": "3.9.15"
  },
  "orig_nbformat": 4,
  "vscode": {
   "interpreter": {
    "hash": "3485a52c6bdb653e885e9718adb1cf8bed3c39a6cf43e1b42ab717f8b949d71f"
   }
  }
 },
 "nbformat": 4,
 "nbformat_minor": 2
}
